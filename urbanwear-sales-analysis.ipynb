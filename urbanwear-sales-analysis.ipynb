{
 "cells": [
  {
   "cell_type": "markdown",
   "id": "71316cdb-a095-4a71-ab85-5a2f3af1db5b",
   "metadata": {},
   "source": [
    "# **UrbanWear - Análise de Vendas**"
   ]
  },
  {
   "cell_type": "markdown",
   "id": "9db7a2b6-09e7-4623-be86-6551b65ebbf2",
   "metadata": {},
   "source": [
    "## **Funções e bibliotecas necessárias para o projeto**"
   ]
  },
  {
   "cell_type": "code",
   "execution_count": 14,
   "id": "eafc80e5-8293-481e-8f43-466ffb3258b7",
   "metadata": {},
   "outputs": [],
   "source": [
    "import pandas as pd\n",
    "import matplotlib.pyplot as plt\n",
    "import seaborn as sns\n",
    "from cycler import cycler"
   ]
  },
  {
   "cell_type": "markdown",
   "id": "5631404b-8ea8-4c8e-af5d-861bf2814fbd",
   "metadata": {},
   "source": [
    "## **Iniciando o projeto utilizando a metodologia CRISP-DM**\n",
    "\n",
    "### **1.0 - Entendimento do Negócio**\n",
    "\n",
    "#### **Contextualização**\n",
    "\n",
    "A UrbanWear é uma empresa fictícia do setor de moda que atua tanto em lojas físicas quanto em e-commerce.\n",
    "Nos últimos anos, o mercado de vestuário tem passado por transformações significativas devido ao avanço do comércio online, mudanças no comportamento do consumidor e aumento da concorrência digital.\n",
    "\n",
    "A direção da empresa busca entender:\n",
    "\n",
    "O desempenho histórico das vendas entre 2018 e 2024.\n",
    "\n",
    "O impacto do crescimento do e-commerce em comparação à loja física.\n",
    "\n",
    "A evolução do ticket médio e da participação percentual de cada canal.\n",
    "\n",
    "Essas informações são fundamentais para apoiar decisões estratégicas sobre investimentos, expansão digital e manutenção da relevância das lojas físicas.\n",
    "\n",
    "#### **Objetivo:**\n",
    "\n",
    "Compreender o comportamento de vendas da UrbanWear entre 2018 e 2024 e apoiar decisões estratégicas.\n",
    "\n",
    "#### **Questões de negócio:**\n",
    "1. Qual canal de vendas apresentou maior taxa de crescimento?\n",
    "2. Existe risco da loja física perder relevância diante do online?\n",
    "3. Qual o ticket médio por canal?"
   ]
  },
  {
   "cell_type": "markdown",
   "id": "db0ff799-9f63-41cf-a7d5-552d0c165023",
   "metadata": {},
   "source": [
    "### **2.0 - Entendimento dos Dados**\n",
    "\n",
    "#### **Sobre os Dados**\n",
    "\n",
    "Dados disponíveis na própria pasta do projeto na subpasta /data\n",
    "\n",
    "#### **Descrição das Colunas**\n",
    "\n",
    "**Data**\n",
    "\n",
    "Data em que as vendas foram registradas. Essa coluna é fundamental para análises temporais, como identificar sazonalidade, tendências e variações mensais/anuais.\n",
    "\n",
    "**Canal**\n",
    "\n",
    "Representa o canal de vendas utilizado (ex.: Loja Física, E-commerce, Parceiros, etc.). Essencial para avaliar a performance de cada canal e identificar mudanças no comportamento de compra dos clientes.\n",
    "\n",
    "**Região**\n",
    "\n",
    "Região geográfica onde a venda foi realizada. Essa variável permite análises geográficas, ajudando a entender onde estão os maiores mercados e oportunidades de expansão.\n",
    "\n",
    "**Quantidade_Vendas**\n",
    "\n",
    "Número de unidades vendidas em determinada transação ou período. Permite medir volume de vendas e cruzar com a receita para entender ticket médio e lucratividade.\n",
    "\n",
    "**Receita_Bruta**\n",
    "\n",
    "Valor monetário bruto das vendas (em reais). É a métrica principal de desempenho financeiro e permite mensurar crescimento, lucratividade e eficiência dos canais e regiões.\n",
    "\n"
   ]
  },
  {
   "cell_type": "markdown",
   "id": "d9974f96-ae40-4d5b-9778-93e09c4c376f",
   "metadata": {},
   "source": [
    "#### **Coletando os dados**"
   ]
  },
  {
   "cell_type": "code",
   "execution_count": 2,
   "id": "689d5e4f-a1b0-4bb1-a19c-b08bc337ae83",
   "metadata": {},
   "outputs": [
    {
     "data": {
      "text/html": [
       "<div>\n",
       "<style scoped>\n",
       "    .dataframe tbody tr th:only-of-type {\n",
       "        vertical-align: middle;\n",
       "    }\n",
       "\n",
       "    .dataframe tbody tr th {\n",
       "        vertical-align: top;\n",
       "    }\n",
       "\n",
       "    .dataframe thead th {\n",
       "        text-align: right;\n",
       "    }\n",
       "</style>\n",
       "<table border=\"1\" class=\"dataframe\">\n",
       "  <thead>\n",
       "    <tr style=\"text-align: right;\">\n",
       "      <th></th>\n",
       "      <th>Data</th>\n",
       "      <th>Canal</th>\n",
       "      <th>Região</th>\n",
       "      <th>Quantidade_Vendas</th>\n",
       "      <th>Receita_Bruta</th>\n",
       "    </tr>\n",
       "  </thead>\n",
       "  <tbody>\n",
       "    <tr>\n",
       "      <th>0</th>\n",
       "      <td>2018-01-01</td>\n",
       "      <td>Loja Física</td>\n",
       "      <td>Nordeste</td>\n",
       "      <td>83</td>\n",
       "      <td>6862.82</td>\n",
       "    </tr>\n",
       "    <tr>\n",
       "      <th>1</th>\n",
       "      <td>2018-01-01</td>\n",
       "      <td>E-commerce</td>\n",
       "      <td>Sudeste</td>\n",
       "      <td>26</td>\n",
       "      <td>1913.43</td>\n",
       "    </tr>\n",
       "    <tr>\n",
       "      <th>2</th>\n",
       "      <td>2018-01-01</td>\n",
       "      <td>E-commerce</td>\n",
       "      <td>Norte</td>\n",
       "      <td>156</td>\n",
       "      <td>13075.65</td>\n",
       "    </tr>\n",
       "    <tr>\n",
       "      <th>3</th>\n",
       "      <td>2018-01-01</td>\n",
       "      <td>Loja Física</td>\n",
       "      <td>Sudeste</td>\n",
       "      <td>48</td>\n",
       "      <td>3674.25</td>\n",
       "    </tr>\n",
       "    <tr>\n",
       "      <th>4</th>\n",
       "      <td>2018-01-01</td>\n",
       "      <td>Loja Física</td>\n",
       "      <td>Nordeste</td>\n",
       "      <td>64</td>\n",
       "      <td>5158.49</td>\n",
       "    </tr>\n",
       "  </tbody>\n",
       "</table>\n",
       "</div>"
      ],
      "text/plain": [
       "         Data        Canal    Região  Quantidade_Vendas  Receita_Bruta\n",
       "0  2018-01-01  Loja Física  Nordeste                 83        6862.82\n",
       "1  2018-01-01   E-commerce   Sudeste                 26        1913.43\n",
       "2  2018-01-01   E-commerce     Norte                156       13075.65\n",
       "3  2018-01-01  Loja Física   Sudeste                 48        3674.25\n",
       "4  2018-01-01  Loja Física  Nordeste                 64        5158.49"
      ]
     },
     "execution_count": 2,
     "metadata": {},
     "output_type": "execute_result"
    }
   ],
   "source": [
    "df = pd.read_csv(r'data/urbanwear_sales.csv', sep=',')\n",
    "df.head()"
   ]
  },
  {
   "cell_type": "code",
   "execution_count": 3,
   "id": "ad9cf2a2-d960-41ad-ab61-c0b72c3b75ae",
   "metadata": {},
   "outputs": [
    {
     "name": "stdout",
     "output_type": "stream",
     "text": [
      "<class 'pandas.core.frame.DataFrame'>\n",
      "RangeIndex: 840 entries, 0 to 839\n",
      "Data columns (total 5 columns):\n",
      " #   Column             Non-Null Count  Dtype  \n",
      "---  ------             --------------  -----  \n",
      " 0   Data               840 non-null    object \n",
      " 1   Canal              840 non-null    object \n",
      " 2   Região             840 non-null    object \n",
      " 3   Quantidade_Vendas  840 non-null    int64  \n",
      " 4   Receita_Bruta      840 non-null    float64\n",
      "dtypes: float64(1), int64(1), object(3)\n",
      "memory usage: 32.9+ KB\n"
     ]
    }
   ],
   "source": [
    "df.info()"
   ]
  },
  {
   "cell_type": "code",
   "execution_count": 4,
   "id": "f67c86f9-4b0b-4b19-927a-876d35ba6859",
   "metadata": {},
   "outputs": [
    {
     "name": "stdout",
     "output_type": "stream",
     "text": [
      "0.00% do Dataframe possui registros duplicados\n"
     ]
    }
   ],
   "source": [
    "print(f\"{df.duplicated().sum() / df['Data'].count():.2%} do Dataframe possui registros duplicados\")"
   ]
  },
  {
   "cell_type": "code",
   "execution_count": 5,
   "id": "c4fcf3b5-7691-4d9d-af3b-95dbdc4d2992",
   "metadata": {},
   "outputs": [
    {
     "data": {
      "text/plain": [
       "Data                 0\n",
       "Canal                0\n",
       "Região               0\n",
       "Quantidade_Vendas    0\n",
       "Receita_Bruta        0\n",
       "dtype: int64"
      ]
     },
     "execution_count": 5,
     "metadata": {},
     "output_type": "execute_result"
    }
   ],
   "source": [
    "df.isna().sum()"
   ]
  },
  {
   "cell_type": "markdown",
   "id": "ea117945-2237-48f0-880d-e3f4627f5a6c",
   "metadata": {},
   "source": [
    "**Diagnóstico de qualidade dos dados**\n",
    "\n",
    "    Não há valores ausentes ou nulos.\n",
    "\n",
    "    Não Existem duplicados"
   ]
  },
  {
   "cell_type": "markdown",
   "id": "9e27de72-5a4c-4bc9-87ef-6d8b4743da80",
   "metadata": {},
   "source": [
    "**Resumo estatístico das variáveis (numéricas e categóricas)**"
   ]
  },
  {
   "cell_type": "code",
   "execution_count": 6,
   "id": "10b42d28-9a1a-4185-9a5a-7a1518d9235b",
   "metadata": {},
   "outputs": [
    {
     "data": {
      "text/html": [
       "<div>\n",
       "<style scoped>\n",
       "    .dataframe tbody tr th:only-of-type {\n",
       "        vertical-align: middle;\n",
       "    }\n",
       "\n",
       "    .dataframe tbody tr th {\n",
       "        vertical-align: top;\n",
       "    }\n",
       "\n",
       "    .dataframe thead th {\n",
       "        text-align: right;\n",
       "    }\n",
       "</style>\n",
       "<table border=\"1\" class=\"dataframe\">\n",
       "  <thead>\n",
       "    <tr style=\"text-align: right;\">\n",
       "      <th></th>\n",
       "      <th>count</th>\n",
       "      <th>mean</th>\n",
       "      <th>std</th>\n",
       "      <th>min</th>\n",
       "      <th>25%</th>\n",
       "      <th>50%</th>\n",
       "      <th>75%</th>\n",
       "      <th>max</th>\n",
       "    </tr>\n",
       "  </thead>\n",
       "  <tbody>\n",
       "    <tr>\n",
       "      <th>Quantidade_Vendas</th>\n",
       "      <td>840.0</td>\n",
       "      <td>126.044048</td>\n",
       "      <td>108.815123</td>\n",
       "      <td>13.00</td>\n",
       "      <td>53.7500</td>\n",
       "      <td>84.000</td>\n",
       "      <td>163.0000</td>\n",
       "      <td>720.00</td>\n",
       "    </tr>\n",
       "    <tr>\n",
       "      <th>Receita_Bruta</th>\n",
       "      <td>840.0</td>\n",
       "      <td>10448.790560</td>\n",
       "      <td>9271.022437</td>\n",
       "      <td>991.19</td>\n",
       "      <td>4346.4725</td>\n",
       "      <td>6934.985</td>\n",
       "      <td>13624.9275</td>\n",
       "      <td>62459.97</td>\n",
       "    </tr>\n",
       "  </tbody>\n",
       "</table>\n",
       "</div>"
      ],
      "text/plain": [
       "                   count          mean          std     min        25%  \\\n",
       "Quantidade_Vendas  840.0    126.044048   108.815123   13.00    53.7500   \n",
       "Receita_Bruta      840.0  10448.790560  9271.022437  991.19  4346.4725   \n",
       "\n",
       "                        50%         75%       max  \n",
       "Quantidade_Vendas    84.000    163.0000    720.00  \n",
       "Receita_Bruta      6934.985  13624.9275  62459.97  "
      ]
     },
     "metadata": {},
     "output_type": "display_data"
    },
    {
     "data": {
      "text/html": [
       "<div>\n",
       "<style scoped>\n",
       "    .dataframe tbody tr th:only-of-type {\n",
       "        vertical-align: middle;\n",
       "    }\n",
       "\n",
       "    .dataframe tbody tr th {\n",
       "        vertical-align: top;\n",
       "    }\n",
       "\n",
       "    .dataframe thead th {\n",
       "        text-align: right;\n",
       "    }\n",
       "</style>\n",
       "<table border=\"1\" class=\"dataframe\">\n",
       "  <thead>\n",
       "    <tr style=\"text-align: right;\">\n",
       "      <th></th>\n",
       "      <th>Data</th>\n",
       "      <th>Canal</th>\n",
       "      <th>Região</th>\n",
       "    </tr>\n",
       "  </thead>\n",
       "  <tbody>\n",
       "    <tr>\n",
       "      <th>count</th>\n",
       "      <td>840</td>\n",
       "      <td>840</td>\n",
       "      <td>840</td>\n",
       "    </tr>\n",
       "    <tr>\n",
       "      <th>unique</th>\n",
       "      <td>84</td>\n",
       "      <td>3</td>\n",
       "      <td>5</td>\n",
       "    </tr>\n",
       "    <tr>\n",
       "      <th>top</th>\n",
       "      <td>2018-01-01</td>\n",
       "      <td>Loja Física</td>\n",
       "      <td>Sudeste</td>\n",
       "    </tr>\n",
       "    <tr>\n",
       "      <th>freq</th>\n",
       "      <td>10</td>\n",
       "      <td>440</td>\n",
       "      <td>351</td>\n",
       "    </tr>\n",
       "  </tbody>\n",
       "</table>\n",
       "</div>"
      ],
      "text/plain": [
       "              Data        Canal   Região\n",
       "count          840          840      840\n",
       "unique          84            3        5\n",
       "top     2018-01-01  Loja Física  Sudeste\n",
       "freq            10          440      351"
      ]
     },
     "metadata": {},
     "output_type": "display_data"
    }
   ],
   "source": [
    "# Variáveis numéricas\n",
    "display(df.describe().T)\n",
    "        \n",
    "# Variáveis categóricas\n",
    "display(df.describe(include=['object']))"
   ]
  },
  {
   "cell_type": "code",
   "execution_count": 7,
   "id": "8d71d43a-246b-43bd-8fbf-7cdf8e539ec2",
   "metadata": {},
   "outputs": [
    {
     "name": "stdout",
     "output_type": "stream",
     "text": [
      "---\n",
      "Canal\n",
      "Loja Física    440\n",
      "E-commerce     359\n",
      "Parceiros       41\n",
      "Name: count, dtype: int64\n",
      "---\n",
      "Região\n",
      "Sudeste         351\n",
      "Nordeste        173\n",
      "Sul             151\n",
      "Centro-Oeste     88\n",
      "Norte            77\n",
      "Name: count, dtype: int64\n"
     ]
    }
   ],
   "source": [
    "# Contagem de valores únicos em cada variável categórica\n",
    "for col in ['Canal', 'Região']:\n",
    "    print('---')\n",
    "    print(df[col].value_counts())"
   ]
  },
  {
   "cell_type": "code",
   "execution_count": 12,
   "id": "b9b61955-b374-4c06-9971-67a1fa1e5dac",
   "metadata": {},
   "outputs": [],
   "source": [
    "# Garantindo que a coluna Data seja datetime\n",
    "df[\"Data\"] = pd.to_datetime(df[\"Data\"])\n",
    "\n",
    "# Criando colunas auxiliares de Ano e Mês\n",
    "df[\"Ano\"] = df[\"Data\"].dt.year\n",
    "df[\"Mes\"] = df[\"Data\"].dt.month"
   ]
  },
  {
   "cell_type": "markdown",
   "id": "900a4859-978d-4d47-86a5-6d3e26f5a244",
   "metadata": {},
   "source": [
    "#### **Gráficos da análise exploratória dos dados**"
   ]
  },
  {
   "cell_type": "code",
   "execution_count": 17,
   "id": "b73f4ffa-a253-40ba-9e7e-e441c61ee76a",
   "metadata": {},
   "outputs": [],
   "source": [
    "# Configurações globais de cores dos gráficos\n",
    "cores = plt.get_cmap('Pastel1').colors\n",
    "ciclo_cores = cycler('color', cores)\n",
    "plt.rc('axes', prop_cycle=ciclo_cores)"
   ]
  },
  {
   "cell_type": "markdown",
   "id": "d7b52cd6-8d7e-4888-b9e8-e35f63f1d16f",
   "metadata": {},
   "source": [
    "**Distribuição das Variáveis Numéricas**"
   ]
  },
  {
   "cell_type": "code",
   "execution_count": 20,
   "id": "c7160506-c182-4707-9719-cc91c5f8d33f",
   "metadata": {},
   "outputs": [
    {
     "data": {
      "image/png": "[encoded data removed]",
      "text/plain": [
       "<Figure size 1000x500 with 2 Axes>"
      ]
     },
     "metadata": {},
     "output_type": "display_data"
    }
   ],
   "source": [
    "num_cols = [\"Quantidade_Vendas\", \"Receita_Bruta\"]\n",
    "\n",
    "df[num_cols].hist(bins=30, figsize=(10,5), edgecolor=\"black\")\n",
    "plt.suptitle(\"Distribuição das Variáveis Numéricas\", fontsize=14, fontweight=\"bold\")\n",
    "plt.show()"
   ]
  },
  {
   "cell_type": "markdown",
   "id": "32ae3e7d-7786-43f4-b77d-39d75bda141d",
   "metadata": {},
   "source": [
    "**Análise dos gráficos de distrubuição das variáveis numéricas**\n",
    "\n",
    "1. Quantidade_Vendas\n",
    "\n",
    "    Média: 126 unidades por transação.\n",
    "\n",
    "    Mediana: 84 unidades → mostra que metade das vendas são menores que esse valor.\n",
    "\n",
    "   Desvio padrão: 108 → indica grande variabilidade nas quantidades vendidas.\n",
    "\n",
    "    Mínimo: 13 unidades.\n",
    "\n",
    "    Máximo: 720 unidades.\n",
    "\n",
    "   Interpretação:\n",
    "\n",
    "       A distribuição é assimétrica à direita (muitos valores baixos e poucos valores muito altos).\n",
    "\n",
    "       Isso significa que a maioria dos clientes compra pequenas/médias quantidades, mas existem casos de compras em lote bem maiores (pode ser compra corporativa, promoção ou sazonalidade).\n",
    "\n",
    "2. Receita_Bruta\n",
    "\n",
    "    Média: R$ 10.449 por venda.\n",
    "\n",
    "    Mediana: R$ 6.935 → valor bem abaixo da média, confirmando a assimetria positiva (algumas vendas muito grandes puxam a média para cima).\n",
    "\n",
    "    Desvio padrão: R$ 9.271 → alto, mostrando grande dispersão entre os valores das vendas.\n",
    "\n",
    "    Mínimo: R$ 991.\n",
    "\n",
    "    Máximo: R$ 62.460.\n",
    "\n",
    "    Interpretação:\n",
    "\n",
    "        A maioria das transações gera receita entre R$ 4.000 e R$ 13.000 (faixa interquartílica).\n",
    "\n",
    "        Existem algumas vendas extremamente altas, que funcionam como outliers positivos.\n",
    "\n",
    "        Isso é comum em negócios de moda quando existem compras grandes para revenda, datas comemorativas (Black Friday, Natal) ou até coleções exclusivas."
   ]
  },
  {
   "cell_type": "code",
   "execution_count": null,
   "id": "b5f1262b-b974-43a5-9b50-ad47ad247720",
   "metadata": {},
   "outputs": [],
   "source": []
  }
 ],
 "metadata": {
  "kernelspec": {
   "display_name": "Python 3 (ipykernel)",
   "language": "python",
   "name": "python3"
  },
  "language_info": {
   "codemirror_mode": {
    "name": "ipython",
    "version": 3
   },
   "file_extension": ".py",
   "mimetype": "text/x-python",
   "name": "python",
   "nbconvert_exporter": "python",
   "pygments_lexer": "ipython3",
   "version": "3.13.5"
  }
 },
 "nbformat": 4,
 "nbformat_minor": 5
}
